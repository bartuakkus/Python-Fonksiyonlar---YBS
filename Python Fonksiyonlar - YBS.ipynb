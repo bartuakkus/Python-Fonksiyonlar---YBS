{
 "cells": [
  {
   "cell_type": "code",
   "execution_count": 20,
   "id": "56bf3954",
   "metadata": {},
   "outputs": [],
   "source": [
    "stok={} #ürünler üzerinde işlem yapabilmek için stok adında bir sözlük açıyorum\n",
    "# Ürün Ekleme İşlemi\n",
    "def urun_ekle():\n",
    "    urun_id = int(input(\"Ürün no girin:\")) #primary key\n",
    "    urun_adi = input(\"Ürün adını girin: \")\n",
    "    adet = int(input(\"Adeti girin: \"))\n",
    "    fiyat = float(input(\"Birim fiyatı girin: \"))\n",
    "    stok[urun_id]={'Ürün adı':urun_adi,'adet':adet,'fiyat':fiyat} #yeni ürünü stok içine ekliyoruz"
   ]
  },
  {
   "cell_type": "code",
   "execution_count": 21,
   "id": "a442ee22",
   "metadata": {},
   "outputs": [],
   "source": [
    "def urun_guncelle():\n",
    "    urun_id=int(input(\"Güncellemek istediğiniz ürün no nedir?:\"))\n",
    "    if urun_id in stok:\n",
    "        stok[urun_id]={'adet': adet, 'fiyat': fiyat}\n",
    "        fiyat=float(input(\"yeni fiyatı girin:\"))\n",
    "        adet=int(input(\"stoktaki güncel sayı:\"))\n",
    "    else:\n",
    "        print(\"aradığınız ürün bulunamadı\")"
   ]
  },
  {
   "cell_type": "code",
   "execution_count": 22,
   "id": "a144828b",
   "metadata": {},
   "outputs": [],
   "source": [
    "def urun_kaldir():\n",
    "    urun_id=int(input(\"Kaldırmak istediğiniz ürün numarasını girin:\"))\n",
    "    if urun_id in stok:\n",
    "        del stok[urun_id] #del komutu listeden eleman silmeye yarar\n",
    "    else:\n",
    "            print(\"ürün bulunamadı\")"
   ]
  },
  {
   "cell_type": "code",
   "execution_count": null,
   "id": "1498e1ec",
   "metadata": {},
   "outputs": [
    {
     "name": "stdout",
     "output_type": "stream",
     "text": [
      "1-Ekle\n",
      "2-Guncelle\n",
      "3-Kaldır\n",
      "4-Çıkış yap\n"
     ]
    }
   ],
   "source": [
    "while True: #while true komutu false değeri görene kadar mevcut kodu çalıştırır\n",
    "    print(\"1-Ekle\")\n",
    "    print(\"2-Guncelle\")\n",
    "    print(\"3-Kaldır\")\n",
    "    print(\"4-Çıkış yap\")\n",
    "    \n",
    "    secim=input(\"Yapmak istediğiniz işlemi seçin\")\n",
    "    \n",
    "    if secim == \"1\":\n",
    "        urun_ekle()\n",
    "    if secim == \"2\":\n",
    "        urun_guncelle()\n",
    "    if secim == \"3\":\n",
    "        urun_kaldir()\n",
    "    if secim == \"4\":\n",
    "        break #break komutu döngüleri durdurur"
   ]
  },
  {
   "cell_type": "code",
   "execution_count": 19,
   "id": "7b022938",
   "metadata": {},
   "outputs": [],
   "source": [
    "#geliştireceğiz"
   ]
  },
  {
   "cell_type": "code",
   "execution_count": null,
   "id": "f4aa7fb3",
   "metadata": {},
   "outputs": [],
   "source": []
  }
 ],
 "metadata": {
  "kernelspec": {
   "display_name": "Python 3",
   "language": "python",
   "name": "python3"
  },
  "language_info": {
   "codemirror_mode": {
    "name": "ipython",
    "version": 3
   },
   "file_extension": ".py",
   "mimetype": "text/x-python",
   "name": "python",
   "nbconvert_exporter": "python",
   "pygments_lexer": "ipython3",
   "version": "3.8.8"
  }
 },
 "nbformat": 4,
 "nbformat_minor": 5
}
